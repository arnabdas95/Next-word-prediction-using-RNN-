{
 "cells": [
  {
   "cell_type": "markdown",
   "metadata": {},
   "source": [
    "# Next word Prediction using LSTM"
   ]
  },
  {
   "cell_type": "markdown",
   "metadata": {},
   "source": [
    "### IMPORTING LIBRARIES"
   ]
  },
  {
   "cell_type": "code",
   "execution_count": 23,
   "metadata": {},
   "outputs": [],
   "source": [
    "import os\n",
    "os.environ['TF_CPP_MIN_LOG_LEVEL'] = '0' \n",
    "import tensorflow as tf\n",
    "from keras.models import Sequential, load_model\n",
    "from keras.layers import LSTM, Dense, Embedding\n",
    "from keras.preprocessing.text import Tokenizer\n",
    "from tensorflow.keras.optimizers import Adam\n",
    "from tensorflow.keras.utils import to_categorical\n",
    "import numpy as np\n",
    "import pandas as pd\n",
    "import matplotlib.pyplot as plt\n",
    "import os\n",
    "import pickle"
   ]
  },
  {
   "cell_type": "markdown",
   "metadata": {},
   "source": [
    "### LOAD THE DATA "
   ]
  },
  {
   "cell_type": "code",
   "execution_count": 2,
   "metadata": {},
   "outputs": [
    {
     "name": "stdout",
     "output_type": "stream",
     "text": [
      " Are you a fan of Google or Microsoft?\n",
      " Both are excellent technology they are helpful in many ways.\n",
      "length of corpus = 600000\n"
     ]
    }
   ],
   "source": [
    "\n",
    "data = open(\"topical_chat_message.txt\", \"r\", encoding = \"utf8\").read()\n",
    "print(data[:100])\n",
    "data = data[:600000]\n",
    "print(f\"length of corpus = {len(data)}\")"
   ]
  },
  {
   "cell_type": "markdown",
   "metadata": {},
   "source": [
    "### DATA PREPROCESSING"
   ]
  },
  {
   "cell_type": "code",
   "execution_count": 3,
   "metadata": {},
   "outputs": [
    {
     "name": "stdout",
     "output_type": "stream",
     "text": [
      "Length of corpus is 589610 \n"
     ]
    }
   ],
   "source": [
    "# remove sepecial character\n",
    "data = data.replace('\\n','')\n",
    "data = data.replace('\\r','')\n",
    "data = data.replace('\\uefeff','')\n",
    "data = data.replace('\\\"','')\n",
    "data = data.replace('\\'','')\n",
    "\n",
    "#remove extra spaces\n",
    "data = data.split()\n",
    "data = \" \".join(data)\n",
    "print(f\"Length of corpus is {len(data)} \")"
   ]
  },
  {
   "cell_type": "code",
   "execution_count": 4,
   "metadata": {},
   "outputs": [],
   "source": [
    "# Tokenization \n",
    "tokenizer = Tokenizer()\n",
    "tokenizer.fit_on_texts([data])\n",
    "\n",
    "# save the tokenizer for predicting function in future\n",
    "pickle.dump(tokenizer, open('tokenizer.pkl','wb'))"
   ]
  },
  {
   "cell_type": "code",
   "execution_count": 5,
   "metadata": {},
   "outputs": [
    {
     "name": "stdout",
     "output_type": "stream",
     "text": [
      "length = 111828\n",
      "first 5 sequence data = [19, 6, 3, 133, 7]\n",
      "size_of_vocab=7764\n"
     ]
    }
   ],
   "source": [
    " sequence_data = tokenizer.texts_to_sequences([data])[0]\n",
    " print(f\"length = {len(sequence_data)}\")\n",
    " print(f\"first 5 sequence data = {sequence_data[:5]}\")\n",
    " size_of_vocab = len(tokenizer.word_index) + 1\n",
    " print(f\"size_of_vocab={size_of_vocab}\")"
   ]
  },
  {
   "cell_type": "markdown",
   "metadata": {},
   "source": [
    "###  MAKING THE WINDOW FOR RNN(LSTM)"
   ]
  },
  {
   "cell_type": "code",
   "execution_count": 6,
   "metadata": {},
   "outputs": [
    {
     "data": {
      "text/plain": [
       "[[19, 6, 3, 133],\n",
       " [6, 3, 133, 7],\n",
       " [3, 133, 7, 238],\n",
       " [133, 7, 238, 71],\n",
       " [7, 238, 71, 3178]]"
      ]
     },
     "execution_count": 6,
     "metadata": {},
     "output_type": "execute_result"
    }
   ],
   "source": [
    "word_length = 3\n",
    "\n",
    "sequence = []\n",
    "for i in range( word_length,len(sequence_data)):\n",
    "  w = sequence_data[i-word_length:i+1] # add one because 0 is used as a pad\n",
    "  sequence.append(w)\n",
    "sequence[:5]"
   ]
  },
  {
   "cell_type": "code",
   "execution_count": 7,
   "metadata": {},
   "outputs": [],
   "source": [
    "# convert to array\n",
    "sequence = np.array(sequence)"
   ]
  },
  {
   "cell_type": "markdown",
   "metadata": {},
   "source": [
    "### BREAKING THE DATA TO FEATURES AND LEBEL "
   ]
  },
  {
   "cell_type": "code",
   "execution_count": 8,
   "metadata": {},
   "outputs": [],
   "source": [
    "# conver y to categorical\n",
    "X = []\n",
    "y = []\n",
    "for i in sequence:\n",
    "  X.append(i[0:3])\n",
    "  y.append(i[3])\n",
    "\n"
   ]
  },
  {
   "cell_type": "markdown",
   "metadata": {},
   "source": [
    "### SPLITING DATA FOR TRAINING AND TESTING"
   ]
  },
  {
   "cell_type": "code",
   "execution_count": 9,
   "metadata": {},
   "outputs": [
    {
     "data": {
      "text/plain": [
       "array([[0., 0., 0., ..., 0., 0., 0.],\n",
       "       [0., 0., 0., ..., 0., 0., 0.],\n",
       "       [0., 0., 0., ..., 0., 0., 0.],\n",
       "       [0., 0., 0., ..., 0., 0., 0.],\n",
       "       [0., 0., 0., ..., 0., 0., 0.]], dtype=float32)"
      ]
     },
     "execution_count": 9,
     "metadata": {},
     "output_type": "execute_result"
    }
   ],
   "source": [
    "# CONVERT TO NP.ARRAY\n",
    "X = np.array(X)\n",
    "y = np.array(y)\n",
    "X_train = X[:590000]\n",
    "y_train = y[:590000]\n",
    "X_test = X[590000:]\n",
    "y_test = y[590000:]\n",
    "\n",
    "#CONVERT Y TO CATEGORICAL ENCODING \n",
    "y_train = to_categorical(y_train,num_classes =  size_of_vocab)\n",
    "y_test = to_categorical(y_test,num_classes =  size_of_vocab)\n",
    "y_train[:5]"
   ]
  },
  {
   "cell_type": "markdown",
   "metadata": {},
   "source": [
    "## MODEL BUILDING"
   ]
  },
  {
   "cell_type": "code",
   "execution_count": 10,
   "metadata": {},
   "outputs": [],
   "source": [
    "model = Sequential()\n",
    "model.add(Embedding(size_of_vocab,10,input_length = 3))\n",
    "model.add(LSTM(512,return_sequences = True,dropout = 0.2,recurrent_dropout = 0.2))\n",
    "model.add(LSTM(512,dropout = 0.2,recurrent_dropout = 0.2))\n",
    "model.add(Dense(512,activation = \"relu\"))\n",
    "model.add(Dense(size_of_vocab,activation = \"softmax\"))"
   ]
  },
  {
   "cell_type": "code",
   "execution_count": 11,
   "metadata": {},
   "outputs": [
    {
     "name": "stdout",
     "output_type": "stream",
     "text": [
      "Model: \"sequential\"\n",
      "_________________________________________________________________\n",
      " Layer (type)                Output Shape              Param #   \n",
      "=================================================================\n",
      " embedding (Embedding)       (None, 3, 10)             77640     \n",
      "                                                                 \n",
      " lstm (LSTM)                 (None, 3, 512)            1071104   \n",
      "                                                                 \n",
      " lstm_1 (LSTM)               (None, 512)               2099200   \n",
      "                                                                 \n",
      " dense (Dense)               (None, 512)               262656    \n",
      "                                                                 \n",
      " dense_1 (Dense)             (None, 7764)              3982932   \n",
      "                                                                 \n",
      "=================================================================\n",
      "Total params: 7,493,532\n",
      "Trainable params: 7,493,532\n",
      "Non-trainable params: 0\n",
      "_________________________________________________________________\n"
     ]
    }
   ],
   "source": [
    "model.summary()"
   ]
  },
  {
   "cell_type": "markdown",
   "metadata": {},
   "source": [
    "### MODEL COMPILE AND FIT"
   ]
  },
  {
   "cell_type": "code",
   "execution_count": 12,
   "metadata": {},
   "outputs": [
    {
     "name": "stdout",
     "output_type": "stream",
     "text": [
      "Epoch 1/100\n",
      "WARNING:tensorflow:AutoGraph could not transform <function Model.make_train_function.<locals>.train_function at 0x000002800B3A11F8> and will run it as-is.\n",
      "Please report this to the TensorFlow team. When filing the bug, set the verbosity to 10 (on Linux, `export AUTOGRAPH_VERBOSITY=10`) and attach the full output.\n",
      "Cause: 'arguments' object has no attribute 'posonlyargs'\n",
      "To silence this warning, decorate the function with @tf.autograph.experimental.do_not_convert\n",
      "WARNING: AutoGraph could not transform <function Model.make_train_function.<locals>.train_function at 0x000002800B3A11F8> and will run it as-is.\n",
      "Please report this to the TensorFlow team. When filing the bug, set the verbosity to 10 (on Linux, `export AUTOGRAPH_VERBOSITY=10`) and attach the full output.\n",
      "Cause: 'arguments' object has no attribute 'posonlyargs'\n",
      "To silence this warning, decorate the function with @tf.autograph.experimental.do_not_convert\n",
      "213/213 [==============================] - ETA: 0s - loss: 6.8170 - accuracy: 0.0356WARNING:tensorflow:AutoGraph could not transform <function Model.make_test_function.<locals>.test_function at 0x000002800C0C0678> and will run it as-is.\n",
      "Please report this to the TensorFlow team. When filing the bug, set the verbosity to 10 (on Linux, `export AUTOGRAPH_VERBOSITY=10`) and attach the full output.\n",
      "Cause: 'arguments' object has no attribute 'posonlyargs'\n",
      "To silence this warning, decorate the function with @tf.autograph.experimental.do_not_convert\n",
      "WARNING: AutoGraph could not transform <function Model.make_test_function.<locals>.test_function at 0x000002800C0C0678> and will run it as-is.\n",
      "Please report this to the TensorFlow team. When filing the bug, set the verbosity to 10 (on Linux, `export AUTOGRAPH_VERBOSITY=10`) and attach the full output.\n",
      "Cause: 'arguments' object has no attribute 'posonlyargs'\n",
      "To silence this warning, decorate the function with @tf.autograph.experimental.do_not_convert\n",
      "213/213 [==============================] - 109s 491ms/step - loss: 6.8170 - accuracy: 0.0356 - val_loss: 6.5086 - val_accuracy: 0.0438\n",
      "Epoch 2/100\n",
      "213/213 [==============================] - 103s 482ms/step - loss: 6.4726 - accuracy: 0.0395 - val_loss: 6.4238 - val_accuracy: 0.0578\n",
      "Epoch 3/100\n",
      "213/213 [==============================] - 110s 516ms/step - loss: 6.2548 - accuracy: 0.0682 - val_loss: 6.1499 - val_accuracy: 0.0894\n",
      "Epoch 4/100\n",
      "213/213 [==============================] - 110s 516ms/step - loss: 5.9796 - accuracy: 0.0827 - val_loss: 6.0605 - val_accuracy: 0.0982\n",
      "Epoch 5/100\n",
      "213/213 [==============================] - 111s 521ms/step - loss: 5.7857 - accuracy: 0.0943 - val_loss: 5.9847 - val_accuracy: 0.1166\n",
      "Epoch 6/100\n",
      "213/213 [==============================] - 106s 497ms/step - loss: 5.6175 - accuracy: 0.1068 - val_loss: 5.9444 - val_accuracy: 0.1266\n",
      "Epoch 7/100\n",
      "213/213 [==============================] - 100s 470ms/step - loss: 5.4483 - accuracy: 0.1180 - val_loss: 5.9128 - val_accuracy: 0.1357\n",
      "Epoch 8/100\n",
      "213/213 [==============================] - 101s 472ms/step - loss: 5.2930 - accuracy: 0.1272 - val_loss: 5.9071 - val_accuracy: 0.1440\n",
      "Epoch 9/100\n",
      "213/213 [==============================] - 101s 474ms/step - loss: 5.1457 - accuracy: 0.1343 - val_loss: 5.9043 - val_accuracy: 0.1499\n",
      "Epoch 10/100\n",
      "213/213 [==============================] - 100s 468ms/step - loss: 5.0100 - accuracy: 0.1416 - val_loss: 5.9720 - val_accuracy: 0.1547\n",
      "Epoch 11/100\n",
      "213/213 [==============================] - 100s 470ms/step - loss: 4.8877 - accuracy: 0.1461 - val_loss: 6.0386 - val_accuracy: 0.1567\n",
      "Epoch 12/100\n",
      "213/213 [==============================] - 101s 473ms/step - loss: 4.7679 - accuracy: 0.1509 - val_loss: 6.0701 - val_accuracy: 0.1631\n",
      "Epoch 13/100\n",
      "213/213 [==============================] - 100s 470ms/step - loss: 4.6513 - accuracy: 0.1554 - val_loss: 6.2298 - val_accuracy: 0.1649\n",
      "Epoch 14/100\n",
      "213/213 [==============================] - 101s 475ms/step - loss: 4.5363 - accuracy: 0.1612 - val_loss: 6.2752 - val_accuracy: 0.1665\n",
      "Epoch 15/100\n",
      "213/213 [==============================] - 102s 477ms/step - loss: 4.4249 - accuracy: 0.1663 - val_loss: 6.4301 - val_accuracy: 0.1708\n",
      "Epoch 16/100\n",
      "213/213 [==============================] - 100s 470ms/step - loss: 4.3123 - accuracy: 0.1716 - val_loss: 6.5995 - val_accuracy: 0.1740\n",
      "Epoch 17/100\n",
      "213/213 [==============================] - 101s 474ms/step - loss: 4.2069 - accuracy: 0.1787 - val_loss: 6.6481 - val_accuracy: 0.1744\n",
      "Epoch 18/100\n",
      "213/213 [==============================] - 100s 470ms/step - loss: 4.0988 - accuracy: 0.1860 - val_loss: 6.8599 - val_accuracy: 0.1774\n",
      "Epoch 19/100\n",
      "213/213 [==============================] - 100s 468ms/step - loss: 3.9948 - accuracy: 0.1934 - val_loss: 6.9128 - val_accuracy: 0.1706\n",
      "Epoch 20/100\n",
      "213/213 [==============================] - 100s 470ms/step - loss: 3.8983 - accuracy: 0.2007 - val_loss: 7.0724 - val_accuracy: 0.1756\n",
      "Epoch 21/100\n",
      "213/213 [==============================] - 100s 469ms/step - loss: 3.8019 - accuracy: 0.2100 - val_loss: 7.1802 - val_accuracy: 0.1708\n",
      "Epoch 22/100\n",
      "213/213 [==============================] - 99s 467ms/step - loss: 3.7118 - accuracy: 0.2186 - val_loss: 7.3489 - val_accuracy: 0.1776\n",
      "Epoch 23/100\n",
      "213/213 [==============================] - 100s 471ms/step - loss: 3.6257 - accuracy: 0.2282 - val_loss: 7.4983 - val_accuracy: 0.1753\n",
      "Epoch 24/100\n",
      "213/213 [==============================] - 102s 478ms/step - loss: 3.5502 - accuracy: 0.2347 - val_loss: 7.6550 - val_accuracy: 0.1769\n",
      "Epoch 25/100\n",
      "213/213 [==============================] - 100s 472ms/step - loss: 3.4707 - accuracy: 0.2425 - val_loss: 7.7800 - val_accuracy: 0.1803\n",
      "Epoch 26/100\n",
      "213/213 [==============================] - 100s 470ms/step - loss: 3.3991 - accuracy: 0.2512 - val_loss: 7.8748 - val_accuracy: 0.1722\n",
      "Epoch 27/100\n",
      "213/213 [==============================] - 100s 471ms/step - loss: 3.3335 - accuracy: 0.2588 - val_loss: 8.0496 - val_accuracy: 0.1765\n",
      "Epoch 28/100\n",
      "213/213 [==============================] - 99s 467ms/step - loss: 3.2624 - accuracy: 0.2688 - val_loss: 8.1433 - val_accuracy: 0.1758\n",
      "Epoch 29/100\n",
      "213/213 [==============================] - 100s 468ms/step - loss: 3.2074 - accuracy: 0.2744 - val_loss: 8.2943 - val_accuracy: 0.1779\n",
      "Epoch 30/100\n",
      "213/213 [==============================] - 100s 469ms/step - loss: 3.1446 - accuracy: 0.2851 - val_loss: 8.3320 - val_accuracy: 0.1799\n",
      "Epoch 31/100\n",
      "213/213 [==============================] - 101s 476ms/step - loss: 3.0918 - accuracy: 0.2919 - val_loss: 8.4689 - val_accuracy: 0.1778\n",
      "Epoch 32/100\n",
      "213/213 [==============================] - 106s 500ms/step - loss: 3.0358 - accuracy: 0.2986 - val_loss: 8.5830 - val_accuracy: 0.1822\n",
      "Epoch 33/100\n",
      "213/213 [==============================] - 107s 499ms/step - loss: 2.9919 - accuracy: 0.3041 - val_loss: 8.7378 - val_accuracy: 0.1819\n",
      "Epoch 34/100\n",
      "213/213 [==============================] - 101s 475ms/step - loss: 2.9393 - accuracy: 0.3141 - val_loss: 8.8380 - val_accuracy: 0.1833\n",
      "Epoch 35/100\n",
      "213/213 [==============================] - 100s 471ms/step - loss: 2.8956 - accuracy: 0.3190 - val_loss: 8.9133 - val_accuracy: 0.1745\n",
      "Epoch 36/100\n",
      "213/213 [==============================] - 103s 485ms/step - loss: 2.8490 - accuracy: 0.3278 - val_loss: 8.9602 - val_accuracy: 0.1763\n",
      "Epoch 37/100\n",
      "213/213 [==============================] - 111s 519ms/step - loss: 2.8075 - accuracy: 0.3322 - val_loss: 9.0824 - val_accuracy: 0.1774\n",
      "Epoch 38/100\n",
      "213/213 [==============================] - 112s 527ms/step - loss: 2.7706 - accuracy: 0.3393 - val_loss: 9.2672 - val_accuracy: 0.1754\n",
      "Epoch 39/100\n",
      "213/213 [==============================] - 112s 524ms/step - loss: 2.7301 - accuracy: 0.3444 - val_loss: 9.3335 - val_accuracy: 0.1754\n",
      "Epoch 40/100\n",
      "213/213 [==============================] - 101s 475ms/step - loss: 2.6918 - accuracy: 0.3510 - val_loss: 9.3904 - val_accuracy: 0.1761\n",
      "Epoch 41/100\n",
      "213/213 [==============================] - 101s 474ms/step - loss: 2.6540 - accuracy: 0.3583 - val_loss: 9.5773 - val_accuracy: 0.1744\n",
      "Epoch 42/100\n",
      "213/213 [==============================] - 107s 503ms/step - loss: 2.6245 - accuracy: 0.3624 - val_loss: 9.6549 - val_accuracy: 0.1727\n",
      "Epoch 43/100\n",
      "213/213 [==============================] - 134s 630ms/step - loss: 2.5841 - accuracy: 0.3678 - val_loss: 9.7673 - val_accuracy: 0.1713\n",
      "Epoch 44/100\n",
      "213/213 [==============================] - 198s 929ms/step - loss: 2.5570 - accuracy: 0.3745 - val_loss: 9.8304 - val_accuracy: 0.1783\n",
      "Epoch 45/100\n",
      "213/213 [==============================] - 174s 819ms/step - loss: 2.5246 - accuracy: 0.3781 - val_loss: 9.8910 - val_accuracy: 0.1790\n",
      "Epoch 46/100\n",
      "213/213 [==============================] - 132s 618ms/step - loss: 2.4915 - accuracy: 0.3841 - val_loss: 9.9576 - val_accuracy: 0.1722\n",
      "Epoch 47/100\n",
      "213/213 [==============================] - 140s 660ms/step - loss: 2.4625 - accuracy: 0.3881 - val_loss: 10.0957 - val_accuracy: 0.1695\n",
      "Epoch 48/100\n",
      "213/213 [==============================] - 153s 721ms/step - loss: 2.4351 - accuracy: 0.3918 - val_loss: 10.1659 - val_accuracy: 0.1765\n",
      "Epoch 49/100\n",
      "213/213 [==============================] - 170s 797ms/step - loss: 2.4041 - accuracy: 0.3978 - val_loss: 10.1848 - val_accuracy: 0.1772\n",
      "Epoch 50/100\n",
      "213/213 [==============================] - 150s 704ms/step - loss: 2.3792 - accuracy: 0.4034 - val_loss: 10.2672 - val_accuracy: 0.1699\n",
      "Epoch 51/100\n",
      "213/213 [==============================] - 149s 699ms/step - loss: 2.3498 - accuracy: 0.4070 - val_loss: 10.3997 - val_accuracy: 0.1668\n",
      "Epoch 52/100\n",
      "213/213 [==============================] - 203s 954ms/step - loss: 2.3256 - accuracy: 0.4128 - val_loss: 10.4003 - val_accuracy: 0.1717\n",
      "Epoch 53/100\n",
      "213/213 [==============================] - 166s 777ms/step - loss: 2.3008 - accuracy: 0.4153 - val_loss: 10.5118 - val_accuracy: 0.1790\n",
      "Epoch 54/100\n",
      "213/213 [==============================] - 131s 614ms/step - loss: 2.2754 - accuracy: 0.4221 - val_loss: 10.5093 - val_accuracy: 0.1699\n",
      "Epoch 55/100\n",
      "213/213 [==============================] - 207s 973ms/step - loss: 2.2489 - accuracy: 0.4260 - val_loss: 10.6028 - val_accuracy: 0.1736\n",
      "Epoch 56/100\n",
      "213/213 [==============================] - 129s 607ms/step - loss: 2.2278 - accuracy: 0.4299 - val_loss: 10.6400 - val_accuracy: 0.1686\n",
      "Epoch 57/100\n",
      "213/213 [==============================] - 135s 633ms/step - loss: 2.2066 - accuracy: 0.4331 - val_loss: 10.7037 - val_accuracy: 0.1697\n",
      "Epoch 58/100\n",
      "213/213 [==============================] - 144s 675ms/step - loss: 2.1784 - accuracy: 0.4399 - val_loss: 10.7915 - val_accuracy: 0.1681\n",
      "Epoch 59/100\n",
      "213/213 [==============================] - 127s 598ms/step - loss: 2.1585 - accuracy: 0.4423 - val_loss: 10.8980 - val_accuracy: 0.1702\n",
      "Epoch 60/100\n",
      "213/213 [==============================] - 129s 604ms/step - loss: 2.1328 - accuracy: 0.4479 - val_loss: 10.9530 - val_accuracy: 0.1744\n",
      "Epoch 61/100\n",
      "213/213 [==============================] - 130s 610ms/step - loss: 2.1144 - accuracy: 0.4507 - val_loss: 11.0379 - val_accuracy: 0.1693\n",
      "Epoch 62/100\n",
      "213/213 [==============================] - 114s 533ms/step - loss: 2.0952 - accuracy: 0.4550 - val_loss: 11.0735 - val_accuracy: 0.1672\n",
      "Epoch 63/100\n",
      "213/213 [==============================] - 101s 473ms/step - loss: 2.0748 - accuracy: 0.4580 - val_loss: 11.2372 - val_accuracy: 0.1702\n",
      "Epoch 64/100\n",
      "213/213 [==============================] - 102s 477ms/step - loss: 2.0521 - accuracy: 0.4638 - val_loss: 11.2275 - val_accuracy: 0.1697\n",
      "Epoch 65/100\n",
      "213/213 [==============================] - 101s 476ms/step - loss: 2.0385 - accuracy: 0.4654 - val_loss: 11.2499 - val_accuracy: 0.1726\n",
      "Epoch 66/100\n",
      "213/213 [==============================] - 101s 473ms/step - loss: 2.0149 - accuracy: 0.4698 - val_loss: 11.2770 - val_accuracy: 0.1720\n",
      "Epoch 67/100\n",
      "213/213 [==============================] - 102s 480ms/step - loss: 1.9956 - accuracy: 0.4741 - val_loss: 11.3537 - val_accuracy: 0.1719\n",
      "Epoch 68/100\n",
      "213/213 [==============================] - 101s 474ms/step - loss: 1.9757 - accuracy: 0.4765 - val_loss: 11.4706 - val_accuracy: 0.1699\n",
      "Epoch 69/100\n",
      "213/213 [==============================] - 103s 483ms/step - loss: 1.9595 - accuracy: 0.4822 - val_loss: 11.4998 - val_accuracy: 0.1708\n",
      "Epoch 70/100\n",
      "213/213 [==============================] - 103s 482ms/step - loss: 1.9385 - accuracy: 0.4862 - val_loss: 11.5171 - val_accuracy: 0.1692\n",
      "Epoch 71/100\n",
      "213/213 [==============================] - 99s 466ms/step - loss: 1.9251 - accuracy: 0.4876 - val_loss: 11.5638 - val_accuracy: 0.1715\n",
      "Epoch 72/100\n",
      "213/213 [==============================] - 102s 480ms/step - loss: 1.9042 - accuracy: 0.4911 - val_loss: 11.7274 - val_accuracy: 0.1704\n",
      "Epoch 73/100\n",
      "213/213 [==============================] - 101s 472ms/step - loss: 1.8836 - accuracy: 0.4969 - val_loss: 11.7379 - val_accuracy: 0.1660\n",
      "Epoch 74/100\n",
      "213/213 [==============================] - 102s 480ms/step - loss: 1.8742 - accuracy: 0.4987 - val_loss: 11.8166 - val_accuracy: 0.1719\n",
      "Epoch 75/100\n",
      "213/213 [==============================] - 103s 485ms/step - loss: 1.8504 - accuracy: 0.5016 - val_loss: 11.8039 - val_accuracy: 0.1693\n",
      "Epoch 76/100\n",
      "213/213 [==============================] - 104s 488ms/step - loss: 1.8398 - accuracy: 0.5050 - val_loss: 11.8574 - val_accuracy: 0.1692\n",
      "Epoch 77/100\n",
      "213/213 [==============================] - 107s 500ms/step - loss: 1.8218 - accuracy: 0.5088 - val_loss: 11.8766 - val_accuracy: 0.1647\n",
      "Epoch 78/100\n",
      "213/213 [==============================] - 104s 487ms/step - loss: 1.8103 - accuracy: 0.5111 - val_loss: 11.9245 - val_accuracy: 0.1686\n",
      "Epoch 79/100\n",
      "213/213 [==============================] - 109s 511ms/step - loss: 1.7954 - accuracy: 0.5140 - val_loss: 11.8968 - val_accuracy: 0.1665\n",
      "Epoch 80/100\n",
      "213/213 [==============================] - 101s 474ms/step - loss: 1.7807 - accuracy: 0.5161 - val_loss: 11.9318 - val_accuracy: 0.1693\n",
      "Epoch 81/100\n",
      "213/213 [==============================] - 104s 488ms/step - loss: 1.7634 - accuracy: 0.5220 - val_loss: 12.0483 - val_accuracy: 0.1670\n",
      "Epoch 82/100\n",
      "213/213 [==============================] - 109s 513ms/step - loss: 1.7480 - accuracy: 0.5248 - val_loss: 12.0545 - val_accuracy: 0.1677\n",
      "Epoch 83/100\n",
      "213/213 [==============================] - 104s 490ms/step - loss: 1.7371 - accuracy: 0.5261 - val_loss: 12.1119 - val_accuracy: 0.1667\n",
      "Epoch 84/100\n",
      "213/213 [==============================] - 103s 485ms/step - loss: 1.7179 - accuracy: 0.5302 - val_loss: 12.2396 - val_accuracy: 0.1706\n",
      "Epoch 85/100\n",
      "213/213 [==============================] - 101s 475ms/step - loss: 1.7124 - accuracy: 0.5311 - val_loss: 12.2566 - val_accuracy: 0.1649\n",
      "Epoch 86/100\n",
      "213/213 [==============================] - 104s 488ms/step - loss: 1.6917 - accuracy: 0.5363 - val_loss: 12.2796 - val_accuracy: 0.1685\n",
      "Epoch 87/100\n",
      "213/213 [==============================] - 102s 480ms/step - loss: 1.6800 - accuracy: 0.5367 - val_loss: 12.2920 - val_accuracy: 0.1711\n",
      "Epoch 88/100\n",
      "213/213 [==============================] - 104s 490ms/step - loss: 1.6617 - accuracy: 0.5413 - val_loss: 12.3106 - val_accuracy: 0.1711\n",
      "Epoch 89/100\n",
      "213/213 [==============================] - 102s 481ms/step - loss: 1.6483 - accuracy: 0.5428 - val_loss: 12.3716 - val_accuracy: 0.1652\n",
      "Epoch 90/100\n",
      "213/213 [==============================] - 104s 489ms/step - loss: 1.6454 - accuracy: 0.5438 - val_loss: 12.4737 - val_accuracy: 0.1645\n",
      "Epoch 91/100\n",
      "213/213 [==============================] - 104s 486ms/step - loss: 1.6308 - accuracy: 0.5493 - val_loss: 12.5573 - val_accuracy: 0.1717\n",
      "Epoch 92/100\n",
      "213/213 [==============================] - 104s 488ms/step - loss: 1.6209 - accuracy: 0.5508 - val_loss: 12.5691 - val_accuracy: 0.1686\n",
      "Epoch 93/100\n",
      "213/213 [==============================] - 103s 485ms/step - loss: 1.6035 - accuracy: 0.5541 - val_loss: 12.6078 - val_accuracy: 0.1658\n",
      "Epoch 94/100\n",
      "213/213 [==============================] - 105s 493ms/step - loss: 1.5939 - accuracy: 0.5563 - val_loss: 12.6047 - val_accuracy: 0.1670\n",
      "Epoch 95/100\n",
      "213/213 [==============================] - 104s 491ms/step - loss: 1.5779 - accuracy: 0.5592 - val_loss: 12.6538 - val_accuracy: 0.1708\n",
      "Epoch 96/100\n",
      "213/213 [==============================] - 108s 507ms/step - loss: 1.5685 - accuracy: 0.5630 - val_loss: 12.7394 - val_accuracy: 0.1615\n",
      "Epoch 97/100\n",
      "213/213 [==============================] - 108s 509ms/step - loss: 1.5551 - accuracy: 0.5644 - val_loss: 12.7449 - val_accuracy: 0.1647\n",
      "Epoch 98/100\n"
     ]
    },
    {
     "name": "stdout",
     "output_type": "stream",
     "text": [
      "213/213 [==============================] - 107s 503ms/step - loss: 1.5443 - accuracy: 0.5666 - val_loss: 12.7577 - val_accuracy: 0.1665\n",
      "Epoch 99/100\n",
      "213/213 [==============================] - 102s 478ms/step - loss: 1.5302 - accuracy: 0.5710 - val_loss: 12.7589 - val_accuracy: 0.1622\n",
      "Epoch 100/100\n",
      "213/213 [==============================] - 107s 503ms/step - loss: 1.5227 - accuracy: 0.5710 - val_loss: 12.8894 - val_accuracy: 0.1640\n"
     ]
    }
   ],
   "source": [
    "model.compile(loss='categorical_crossentropy', optimizer=Adam(learning_rate = 0.001), metrics=['accuracy'])\n",
    "history = model.fit(X_train,y_train,validation_split=0.05,epochs= 100,batch_size=500).history"
   ]
  },
  {
   "cell_type": "markdown",
   "metadata": {},
   "source": [
    "### VISUALIZE MODEL"
   ]
  },
  {
   "cell_type": "code",
   "execution_count": 19,
   "metadata": {},
   "outputs": [
    {
     "name": "stdout",
     "output_type": "stream",
     "text": [
      "You must install pydot (`pip install pydot`) and install graphviz (see instructions at https://graphviz.gitlab.io/download/) for plot_model/model_to_dot to work.\n"
     ]
    }
   ],
   "source": [
    "from tensorflow.keras.utils import plot_model\n",
    "plot_model(model, to_file='model.png', show_shapes = True)"
   ]
  },
  {
   "cell_type": "markdown",
   "metadata": {},
   "source": [
    "### SAVE THE MODEL FOR FUTURE EVOLUTION"
   ]
  },
  {
   "cell_type": "code",
   "execution_count": 14,
   "metadata": {},
   "outputs": [],
   "source": [
    "model.save('next_word_model.h5')\n",
    "pickle.dump(history, open(\"history.p\", \"wb\"))\n",
    "model = load_model('next_word_model.h5')\n",
    "history = pickle.load(open(\"history.p\", \"rb\"))"
   ]
  },
  {
   "cell_type": "markdown",
   "metadata": {},
   "source": [
    "### PLOT ACCURACY VS VALIDATION ACCURAY "
   ]
  },
  {
   "cell_type": "code",
   "execution_count": 15,
   "metadata": {},
   "outputs": [
    {
     "data": {
      "text/plain": [
       "<matplotlib.legend.Legend at 0x2800b1e0e88>"
      ]
     },
     "execution_count": 15,
     "metadata": {},
     "output_type": "execute_result"
    },
    {
     "data": {
      "image/png": "[encoded data removed]",
      "text/plain": [
       "<Figure size 432x288 with 1 Axes>"
      ]
     },
     "metadata": {
      "needs_background": "light"
     },
     "output_type": "display_data"
    }
   ],
   "source": [
    "plt.plot(history['accuracy'])\n",
    "plt.plot(history['val_accuracy'])\n",
    "plt.title('model accuracy')\n",
    "plt.ylabel('accuracy')\n",
    "plt.xlabel('epoch')\n",
    "plt.legend(['train', 'val'], loc='upper left')"
   ]
  },
  {
   "cell_type": "markdown",
   "metadata": {},
   "source": [
    "### PLOT LOSS VS VALIDATION LOSS"
   ]
  },
  {
   "cell_type": "code",
   "execution_count": 16,
   "metadata": {
    "scrolled": true
   },
   "outputs": [
    {
     "data": {
      "text/plain": [
       "<matplotlib.legend.Legend at 0x2800b1fdcc8>"
      ]
     },
     "execution_count": 16,
     "metadata": {},
     "output_type": "execute_result"
    },
    {
     "data": {
      "image/png": "[encoded data removed]",
      "text/plain": [
       "<Figure size 432x288 with 1 Axes>"
      ]
     },
     "metadata": {
      "needs_background": "light"
     },
     "output_type": "display_data"
    }
   ],
   "source": [
    "plt.plot(history['loss'])\n",
    "plt.plot(history['val_loss'])\n",
    "plt.title('model loss')\n",
    "plt.ylabel('loss')\n",
    "plt.xlabel('epoch')\n",
    "plt.legend(['train', 'val'], loc='upper left')"
   ]
  },
  {
   "cell_type": "markdown",
   "metadata": {},
   "source": [
    "# HYPERPARAMETER TUNNING"
   ]
  },
  {
   "cell_type": "markdown",
   "metadata": {},
   "source": [
    "### PREAPRE FOR PREDICTING NEXT WORD"
   ]
  },
  {
   "cell_type": "code",
   "execution_count": 20,
   "metadata": {},
   "outputs": [],
   "source": [
    "# DATA PREPROCESS\n",
    "def preprocess(data):\n",
    "    sequence_data = tokenizer.texts_to_sequences([data])  \n",
    "    return np.array(sequence_data)\n"
   ]
  },
  {
   "cell_type": "markdown",
   "metadata": {},
   "source": [
    "### PREDICTING NEXT WORD"
   ]
  },
  {
   "cell_type": "code",
   "execution_count": 37,
   "metadata": {},
   "outputs": [],
   "source": [
    "def predict(input):\n",
    "    predicted_word = np.argmax(model.predict(input))\n",
    "    predicted_word = tokenizer.sequences_to_texts([[predicted_word]])\n",
    "    return predicted_word\n"
   ]
  },
  {
   "cell_type": "code",
   "execution_count": null,
   "metadata": {},
   "outputs": [],
   "source": [
    "import warnings\n",
    "model = load_model('next_word_model.h5')\n",
    "tokenizer = pickle.load(open('tokenizer.pkl','rb'))\n",
    "q=True\n",
    "while(q):\n",
    "    \n",
    "    warnings.filterwarnings(\"ignore\")\n",
    "    ip = input()\n",
    "    if ip==\"bye\":\n",
    "        q=False\n",
    "    print(predict(preprocess(ip)))"
   ]
  },
  {
   "cell_type": "code",
   "execution_count": null,
   "metadata": {},
   "outputs": [],
   "source": []
  }
 ],
 "metadata": {
  "kernelspec": {
   "display_name": "Python 3",
   "language": "python",
   "name": "python3"
  },
  "language_info": {
   "codemirror_mode": {
    "name": "ipython",
    "version": 3
   },
   "file_extension": ".py",
   "mimetype": "text/x-python",
   "name": "python",
   "nbconvert_exporter": "python",
   "pygments_lexer": "ipython3",
   "version": "3.7.4"
  }
 },
 "nbformat": 4,
 "nbformat_minor": 2
}
